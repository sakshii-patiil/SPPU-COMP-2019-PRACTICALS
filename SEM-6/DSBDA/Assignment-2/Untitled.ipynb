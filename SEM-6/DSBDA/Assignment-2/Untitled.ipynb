{
 "cells": [
  {
   "cell_type": "markdown",
   "id": "6d0b37de",
   "metadata": {},
   "source": [
    "import pandas as pd\n",
    "dataset = {\"Name\" :['Monica','Chandler','Joey','Ross','Racheal','Pheobe','Robin','Barney','Ted','Lily','Marshal'],\n",
    "           'Subjects' : ['Iot','Data Science','Web','Android','Python','Cpp','VLSI','Powe Circuits','TOC','AI','CC'],\n",
    "           'Marks' : [56,78,]\n",
    "          "
   ]
  },
  {
   "cell_type": "code",
   "execution_count": null,
   "id": "456edf59",
   "metadata": {},
   "outputs": [],
   "source": []
  }
 ],
 "metadata": {
  "kernelspec": {
   "display_name": "Python 3 (ipykernel)",
   "language": "python",
   "name": "python3"
  },
  "language_info": {
   "codemirror_mode": {
    "name": "ipython",
    "version": 3
   },
   "file_extension": ".py",
   "mimetype": "text/x-python",
   "name": "python",
   "nbconvert_exporter": "python",
   "pygments_lexer": "ipython3",
   "version": "3.10.9"
  }
 },
 "nbformat": 4,
 "nbformat_minor": 5
}
